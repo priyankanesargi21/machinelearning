{
  "cells": [
    {
      "cell_type": "markdown",
      "metadata": {
        "id": "view-in-github",
        "colab_type": "text"
      },
      "source": [
        "<a href=\"https://colab.research.google.com/github/priyankanesargi21/machinelearning/blob/main/Assignment_1.ipynb\" target=\"_parent\"><img src=\"https://colab.research.google.com/assets/colab-badge.svg\" alt=\"Open In Colab\"/></a>"
      ]
    },
    {
      "cell_type": "raw",
      "metadata": {
        "id": "a5TqoXZEgImm"
      },
      "source": [
        "1. In the below elements which of them are values or an expression? eg:- values can be\n",
        "integer or string and expressions will be mathematical operators.\n",
        "* Expression\n",
        "'hello' values\n",
        "-87.8  expression\n",
        "-  expression\n",
        "/  expression\n",
        "+ expression\n",
        "6 values"
      ]
    },
    {
      "cell_type": "raw",
      "metadata": {
        "id": "Kl2TYLxsgImn"
      },
      "source": [
        "2. What is the difference between string and variable?\n",
        "\n",
        "Ans: String: Anything written in Single or Double qoutes is String. Example: \"hello\", \"Hi, How are you?\", 'Hello'\n",
        "\n",
        "Variable: It holds a value that may change. It may hold any type of data. Value will be stored in memory and variable name acts as identifier for later reference.\n",
        "\n",
        "Example: a=10\n",
        "string1 = \"Hi, How are you\"\n",
        "b= 4.8"
      ]
    },
    {
      "cell_type": "raw",
      "metadata": {
        "id": "tf6vYkaBgImo"
      },
      "source": [
        "3. Describe three different data types.\n",
        "\n",
        "Strings: Anything written in Single or Double qoutes is String. Example: \"hello\", \"Hi, How are you?\", 'Hello'\n",
        "Integers: Whole numbers is known as intergers Example: 5,6,90\n",
        "Floats: Decimal Numbers is known as floats. Example: 7.9, 0.9\n",
        "Booleans: Truth values that represent Yes/No. Example: True, False"
      ]
    },
    {
      "cell_type": "raw",
      "metadata": {
        "id": "3VsfkcukgImo"
      },
      "source": [
        "4. What is an expression made up of? What do all expressions do?\n",
        "\n",
        "An expression is a combination of operators and operands that is interpreted to produce some other value.\n",
        "An expression is evaluated as per the precedence of its operators.\n",
        "Expressions need to be evaluated. If we print an expression, the interpreter evaluates the expression and displays the result"
      ]
    },
    {
      "cell_type": "raw",
      "metadata": {
        "id": "bigiZYOOgImo"
      },
      "source": [
        "5. This assignment statements, like spam = 10. What is the difference between an\n",
        "expression and a statement?\n",
        "\n",
        "A statement is an instruction that the Python interpreter can execute.\n",
        "An expression is a combination of literals, variable names, operators, and calls to functions. Expressions need to be evaluated. The result of evaluating an expression is a value or object."
      ]
    },
    {
      "cell_type": "raw",
      "metadata": {
        "id": "ot5hTW4YgImp"
      },
      "source": [
        "6.After running the following code, what does the variable bacon contain?\n",
        "\n",
        "\n",
        "bacon = 22\n",
        "\n",
        "bacon + 1\n",
        "\n",
        "bacon will contain 23"
      ]
    },
    {
      "cell_type": "raw",
      "metadata": {
        "id": "lV-8k1eigImp"
      },
      "source": [
        "7. What should the values of the following two terms be?\n",
        "\n",
        "'spam' + 'spamspam'\n",
        "\n",
        "'spam' * 3\n",
        "\n",
        "Ans: Both will result 'spamspamspam':and"
      ]
    },
    {
      "cell_type": "raw",
      "metadata": {
        "id": "Vf60ANa-gImp"
      },
      "source": [
        "8. Why is eggs a valid variable name while 100 is invalid?\n",
        "\n",
        "Ans: Because variable names cannot begin with a number."
      ]
    },
    {
      "cell_type": "raw",
      "metadata": {
        "id": "M2PW7ToSgImp"
      },
      "source": [
        "9. What three functions can be used to get the integer, floating-point number, or string\n",
        "version of a value?\n",
        "\n",
        "Ans: integer = int()\n",
        "floating-point number = float()\n",
        "string = str()"
      ]
    },
    {
      "cell_type": "raw",
      "metadata": {
        "id": "AyeFInRcgImp"
      },
      "source": [
        "10. Why does this expression cause an error? How can you fix it?\n",
        "'I have eaten' + 99 + 'burritos.'\n",
        "\n",
        "Ans: Error will be cannot concatenate int with str\n",
        "so we can fix it by converting 99 to str\n",
        "'I have eaten' + str(99) + 'burritos.'"
      ]
    },
    {
      "cell_type": "code",
      "execution_count": null,
      "metadata": {
        "id": "T-CmAzRUgImq"
      },
      "outputs": [],
      "source": []
    }
  ],
  "metadata": {
    "kernelspec": {
      "display_name": "Python 3",
      "language": "python",
      "name": "python3"
    },
    "language_info": {
      "codemirror_mode": {
        "name": "ipython",
        "version": 3
      },
      "file_extension": ".py",
      "mimetype": "text/x-python",
      "name": "python",
      "nbconvert_exporter": "python",
      "pygments_lexer": "ipython3",
      "version": "3.7.6"
    },
    "colab": {
      "provenance": [],
      "include_colab_link": true
    }
  },
  "nbformat": 4,
  "nbformat_minor": 0
}