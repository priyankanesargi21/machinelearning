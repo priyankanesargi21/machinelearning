{
  "nbformat": 4,
  "nbformat_minor": 0,
  "metadata": {
    "colab": {
      "provenance": [],
      "authorship_tag": "ABX9TyMZoNxXElDWVmIFXn/cgiFZ",
      "include_colab_link": true
    },
    "kernelspec": {
      "name": "python3",
      "display_name": "Python 3"
    },
    "language_info": {
      "name": "python"
    }
  },
  "cells": [
    {
      "cell_type": "markdown",
      "metadata": {
        "id": "view-in-github",
        "colab_type": "text"
      },
      "source": [
        "<a href=\"https://colab.research.google.com/github/priyankanesargi21/machinelearning/blob/main/python_advance_a1.ipynb\" target=\"_parent\"><img src=\"https://colab.research.google.com/assets/colab-badge.svg\" alt=\"Open In Colab\"/></a>"
      ]
    },
    {
      "cell_type": "markdown",
      "source": [
        " Q1. What is the purpose of Python's OOP?\n",
        "\n",
        " Ans: Python's OOP system supports four features: \n",
        " 1.encapsulation\n",
        " 2.abstraction\n",
        " 3.inheritance \n",
        " 4.polymorphism\n",
        " The main concept of OOPs is to bind the data and the functions that work on  together as a single unit so that no other part of the code can access this data.\n",
        "\n",
        "\n",
        "\n",
        "\n",
        "\n"
      ],
      "metadata": {
        "id": "NA3LhgJEzh36"
      }
    },
    {
      "cell_type": "markdown",
      "source": [
        "Q2. Where does an inheritance search look for an attribute?\n",
        "\n",
        "Ans: An inheritance search looks first at a attribute in the instance object and then in the class from where the instance was created, then in all higher superclasses, progressing from left to right (by default). The search stops at the first place the attribute is found"
      ],
      "metadata": {
        "id": "p-Ub-j-z0WXx"
      }
    },
    {
      "cell_type": "markdown",
      "source": [
        "Q3. How do you distinguish between a class object and an instance object?\n",
        "\n",
        "Ans: Example of class object is:\n",
        "class Example:\n",
        "  def __init__(self, name, id):\n",
        "      self.name = name\n",
        "      self.id = id\n",
        "\n",
        "above code will generate a class object and name it Example. From this class object, we will create instance objects.\n",
        "\n",
        "Example of instance object:\n",
        "example_obj = Example()\n",
        "\n",
        "the above statement creates an object and names it to example_obj which is an instance of Example\n",
        "\n"
      ],
      "metadata": {
        "id": "FDD9kpDx0VNY"
      }
    },
    {
      "cell_type": "markdown",
      "source": [
        "Q4. What makes the first argument in a class’s method function special?\n",
        "\n",
        "Ans:The first argument of class method function is self. self represents the instance of the class. By using the “self”  we can access the attributes and methods of the class in python. It binds the attributes with the given arguments."
      ],
      "metadata": {
        "id": "WwBLyykWOBVj"
      }
    },
    {
      "cell_type": "markdown",
      "source": [
        "Q5. What is the purpose of the __init__ method?\n",
        "\n",
        "Ans: The __init__ method lets the class initialize the object's attributes. It can be used only within classes\n"
      ],
      "metadata": {
        "id": "bU1IpZqqOX7Z"
      }
    },
    {
      "cell_type": "markdown",
      "source": [
        "Q6. What is the process for creating a class instance?\n",
        "\n",
        "Ans: To create instances of a class, you call the class using class name and pass in whatever arguments its __init__ method accepts.\n",
        "\"This would create first object of Example class\"\n",
        "ex1 = Example(\"Pri\", 1)\n",
        "\"This would create second object of Example class\"\n",
        "ex2 = Example(\"Che\", 2)"
      ],
      "metadata": {
        "id": "VBmWj8yqOkeW"
      }
    },
    {
      "cell_type": "markdown",
      "source": [
        "Q7. What is the process for creating a class?\n",
        "\n",
        "Ans: To create a class, use the keyword class:\n",
        "Create a class named Example, with a property named x:\n",
        "\n",
        "class Example:\n",
        "  name = 'pri'\n",
        "\n",
        "\n",
        "\n"
      ],
      "metadata": {
        "id": "QRkMdPjBQcWF"
      }
    },
    {
      "cell_type": "markdown",
      "source": [
        "Q8. How would you define the superclasses of a class?\n",
        "\n",
        "Ans: A superclass is the class from which many subclasses can be created. The subclasses inherit the characteristics of a superclass. The superclass is also known as the parent class or base class.\n",
        "\n",
        "The syntax for a subclass definition looks like this:\n",
        "\n",
        "class DerivedClassName(BaseClassName):\n",
        "    pass\n",
        "\n",
        "Example: \n",
        "class User:\n",
        "    def __init__(self, name):\n",
        "        self.name = name\n",
        "    def initiate(self):\n",
        "        print(\"Hi, I am \" + self.name)\n",
        "    \n",
        "class Name(User):\n",
        "    pass\n",
        "x = User(\"Pri\")\n",
        "y = Name(\"Che\")\n",
        "\n"
      ],
      "metadata": {
        "id": "GcKfZaxVR9AA"
      }
    },
    {
      "cell_type": "code",
      "source": [],
      "metadata": {
        "id": "zIDPZlt5Np9t"
      },
      "execution_count": null,
      "outputs": []
    }
  ]
}