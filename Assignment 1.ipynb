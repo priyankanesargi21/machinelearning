{
 "cells": [
  {
   "cell_type": "raw",
   "metadata": {},
   "source": [
    "1. In the below elements which of them are values or an expression? eg:- values can be\n",
    "integer or string and expressions will be mathematical operators.\n",
    "* Expression\n",
    "'hello' values\n",
    "-87.8  expression\n",
    "-  expression\n",
    "/  expression\n",
    "+ expression\n",
    "6 values"
   ]
  },
  {
   "cell_type": "raw",
   "metadata": {},
   "source": [
    "2. What is the difference between string and variable?\n",
    "Ans: String: Anything written in Single or Double qoutes is String. Example: \"hello\", \"Hi, How are you?\", 'Hello'\n",
    "Variable: It holds a value that may change. It may hold any type of data. Value will be stored in memory and variable name acts as identifier for later reference.\n",
    "Example: a=10\n",
    "string1 = \"Hi, How are you\"\n",
    "b= 4.8"
   ]
  },
  {
   "cell_type": "raw",
   "metadata": {},
   "source": [
    "3. Describe three different data types.\n",
    "Strings: Anything written in Single or Double qoutes is String. Example: \"hello\", \"Hi, How are you?\", 'Hello'\n",
    "Integers: Whole numbers is known as intergers Example: 5,6,90\n",
    "Floats: Decimal Numbers is known as floats. Example: 7.9, 0.9\n",
    "Booleans: Truth values that represent Yes/No. Example: True, False"
   ]
  },
  {
   "cell_type": "raw",
   "metadata": {},
   "source": [
    "4. What is an expression made up of? What do all expressions do?\n",
    "An expression is a combination of operators and operands that is interpreted to produce some other value.\n",
    "An expression is evaluated as per the precedence of its operators.\n",
    "Expressions need to be evaluated. If we print an expression, the interpreter evaluates the expression and displays the result"
   ]
  },
  {
   "cell_type": "raw",
   "metadata": {},
   "source": [
    "5. This assignment statements, like spam = 10. What is the difference between an\n",
    "expression and a statement?\n",
    "A statement is an instruction that the Python interpreter can execute.\n",
    "An expression is a combination of literals, variable names, operators, and calls to functions. Expressions need to be evaluated. The result of evaluating an expression is a value or object."
   ]
  },
  {
   "cell_type": "raw",
   "metadata": {},
   "source": [
    "6.After running the following code, what does the variable bacon contain?\n",
    "bacon = 22\n",
    "bacon + 1\n",
    "bacon will contain 23"
   ]
  },
  {
   "cell_type": "raw",
   "metadata": {},
   "source": [
    "7. What should the values of the following two terms be?\n",
    "'spam' + 'spamspam'\n",
    "'spam' * 3\n",
    "Ans: Both will result 'spamspamspam'"
   ]
  },
  {
   "cell_type": "raw",
   "metadata": {},
   "source": [
    "8. Why is eggs a valid variable name while 100 is invalid?\n",
    "Ans: Because variable names cannot begin with a number."
   ]
  },
  {
   "cell_type": "raw",
   "metadata": {},
   "source": [
    "9. What three functions can be used to get the integer, floating-point number, or string\n",
    "version of a value?\n",
    "Ans: integer = int()\n",
    "floating-point number = float()\n",
    "string = str()"
   ]
  },
  {
   "cell_type": "raw",
   "metadata": {},
   "source": [
    "10. Why does this expression cause an error? How can you fix it?\n",
    "'I have eaten' + 99 + 'burritos.'\n",
    "Ans: Error will be cannot concatenate int with str\n",
    "so we can fix it by converting 99 to str\n",
    "'I have eaten' + str(99) + 'burritos.'"
   ]
  },
  {
   "cell_type": "code",
   "execution_count": null,
   "metadata": {},
   "outputs": [],
   "source": []
  }
 ],
 "metadata": {
  "kernelspec": {
   "display_name": "Python 3",
   "language": "python",
   "name": "python3"
  },
  "language_info": {
   "codemirror_mode": {
    "name": "ipython",
    "version": 3
   },
   "file_extension": ".py",
   "mimetype": "text/x-python",
   "name": "python",
   "nbconvert_exporter": "python",
   "pygments_lexer": "ipython3",
   "version": "3.7.6"
  }
 },
 "nbformat": 4,
 "nbformat_minor": 4
}
